{
  "nbformat": 4,
  "nbformat_minor": 0,
  "metadata": {
    "colab": {
      "provenance": []
    },
    "kernelspec": {
      "name": "python3",
      "display_name": "Python 3"
    },
    "language_info": {
      "name": "python"
    }
  },
  "cells": [
    {
      "cell_type": "code",
      "execution_count": null,
      "metadata": {
        "colab": {
          "base_uri": "https://localhost:8080/"
        },
        "id": "fzVmTkNOvv3e",
        "outputId": "0e900516-bae5-45f1-8fdd-774e2583e2c3"
      },
      "outputs": [
        {
          "output_type": "stream",
          "name": "stdout",
          "text": [
            "enter your digit:12345678\n",
            "sum of digits 36\n"
          ]
        }
      ],
      "source": [
        "num=int(input(\"enter your digit:\"))\n",
        "sum=0\n",
        "while num >0:\n",
        "  digit=num%10\n",
        "  sum += digit\n",
        "  num=num//10\n",
        "print(\"sum of digits\",sum)\n"
      ]
    },
    {
      "cell_type": "code",
      "source": [
        "#str to int split int to str no split\n",
        "n=list(map(int,input(\"enter a number:\")))\n",
        "add=list(map(lambda x :x+5,n))\n",
        "print(add)\n"
      ],
      "metadata": {
        "colab": {
          "base_uri": "https://localhost:8080/"
        },
        "id": "2mfxHK2KV5eo",
        "outputId": "6b3c5572-36ff-4a49-9069-5ebca9a39f4f"
      },
      "execution_count": 4,
      "outputs": [
        {
          "output_type": "stream",
          "name": "stdout",
          "text": [
            "enter a number:1234\n",
            "[6, 7, 8, 9]\n"
          ]
        }
      ]
    },
    {
      "cell_type": "code",
      "source": [
        "listt=[1,2,3,4]\n",
        "evennum=list(filter(lambda x:x%2==0,listt))\n",
        "print(evennum)"
      ],
      "metadata": {
        "colab": {
          "base_uri": "https://localhost:8080/"
        },
        "id": "w67m_yTYX5lx",
        "outputId": "91243a20-e111-440a-e42d-7f71b3f966b7"
      },
      "execution_count": 9,
      "outputs": [
        {
          "output_type": "stream",
          "name": "stdout",
          "text": [
            "[2, 4]\n"
          ]
        }
      ]
    },
    {
      "cell_type": "code",
      "source": [
        "from functools import reduce\n",
        "numbers=(1,2,3,4,5,6)\n",
        "red=reduce(lambda x,y:x+y,numbers)\n",
        "print(red)"
      ],
      "metadata": {
        "colab": {
          "base_uri": "https://localhost:8080/"
        },
        "id": "4Nlnq2ILaJVU",
        "outputId": "14c7dfa3-ea2d-4a6d-9158-76b3b0e954e6"
      },
      "execution_count": 11,
      "outputs": [
        {
          "output_type": "stream",
          "name": "stdout",
          "text": [
            "21\n"
          ]
        }
      ]
    },
    {
      "cell_type": "code",
      "source": [
        "#playing with class+objects\n",
        "class car:\n",
        "  brand=\"rolls\"\n",
        "  colour=\"red\"\n",
        "c1=car()\n",
        "c1.brand\n",
        "c1.colour\n",
        "c1.brand\n"
      ],
      "metadata": {
        "colab": {
          "base_uri": "https://localhost:8080/",
          "height": 36
        },
        "id": "YwdW8p4ycYTd",
        "outputId": "6e2d153b-349b-49f0-f0d0-3b18f5baa495"
      },
      "execution_count": 13,
      "outputs": [
        {
          "output_type": "execute_result",
          "data": {
            "text/plain": [
              "'rolls'"
            ],
            "application/vnd.google.colaboratory.intrinsic+json": {
              "type": "string"
            }
          },
          "metadata": {},
          "execution_count": 13
        }
      ]
    },
    {
      "cell_type": "code",
      "source": [
        "import numpy as np\n",
        "arr=np.array([[1,2,3],[4,5,6]])\n",
        "print(arr)\n",
        "print(arr[0:2])"
      ],
      "metadata": {
        "colab": {
          "base_uri": "https://localhost:8080/"
        },
        "id": "wL2UrHo7oJCG",
        "outputId": "4853ab9e-969f-41c7-c512-1eac73df6a26"
      },
      "execution_count": null,
      "outputs": [
        {
          "output_type": "stream",
          "name": "stdout",
          "text": [
            "[[1 2 3]\n",
            " [4 5 6]]\n",
            "[[1 2 3]\n",
            " [4 5 6]]\n"
          ]
        }
      ]
    },
    {
      "cell_type": "code",
      "source": [
        "num=[1,2,3,4,5,6,7,88,888]\n",
        "num[0:7:1]"
      ],
      "metadata": {
        "colab": {
          "base_uri": "https://localhost:8080/"
        },
        "id": "xBLh46KhtVre",
        "outputId": "15523c32-c9eb-4181-9fa4-5af75285936b"
      },
      "execution_count": null,
      "outputs": [
        {
          "output_type": "execute_result",
          "data": {
            "text/plain": [
              "[1, 2, 3, 4, 5, 6, 7]"
            ]
          },
          "metadata": {},
          "execution_count": 7
        }
      ]
    },
    {
      "cell_type": "code",
      "source": [
        "\n",
        "#Pass or Fail: Given marks in 3 subjects, print \"Pass\" if all  35, else \"Fail\"\n",
        "t=int(input())\n",
        "\n",
        "while t>0:\n",
        "  chem=int(input(\"enter the student mark in chem\"))\n",
        "  maths=int(input(\"enter the student mark in maths\"))\n",
        "  eng=int(input(\"enter the student mark in eng\"))\n",
        "  if chem >= 35 and maths >= 35 and eng >= 35:\n",
        "    print(\"pass\")\n",
        "  else:\n",
        "    print(\"fail\")\n",
        "\n",
        "  t=-1"
      ],
      "metadata": {
        "colab": {
          "base_uri": "https://localhost:8080/"
        },
        "id": "OAbddQ4EohxL",
        "outputId": "12268aeb-bc0e-4c80-acfd-0f1a69e7be2d"
      },
      "execution_count": null,
      "outputs": [
        {
          "output_type": "stream",
          "name": "stdout",
          "text": [
            "3\n",
            "enter the student mark in chem36\n",
            "enter the student mark in maths37\n",
            "enter the student mark in eng38\n",
            "pass\n"
          ]
        }
      ]
    },
    {
      "cell_type": "code",
      "source": [
        "class car:\n",
        "  def brand(self):\n",
        "    print(\"toyota\")\n",
        "c1=car()\n",
        "c1.brand()\n",
        ""
      ],
      "metadata": {
        "colab": {
          "base_uri": "https://localhost:8080/"
        },
        "id": "3lh7ERFujcF5",
        "outputId": "797280da-33c2-4b20-e6ad-b1ee7734a87d"
      },
      "execution_count": 16,
      "outputs": [
        {
          "output_type": "stream",
          "name": "stdout",
          "text": [
            "toyota\n"
          ]
        }
      ]
    },
    {
      "cell_type": "code",
      "source": [
        "class cars:\n",
        "  def __init__(self,brand,color):\n",
        "    self.brand=brand\n",
        "    self.color=color\n",
        "  def display(self):\n",
        "      print(f\"brand:{self.brand}and color:{self.color}\")\n",
        "c1=cars(\"rolls royce\",\"dark red\")\n",
        "c2=cars(\"ferrari\",\"red\")\n",
        "c1.display()"
      ],
      "metadata": {
        "id": "B0aCqr65r8U8",
        "colab": {
          "base_uri": "https://localhost:8080/"
        },
        "outputId": "5e90d615-88a3-4ebf-a459-7387d9c12660"
      },
      "execution_count": 23,
      "outputs": [
        {
          "output_type": "stream",
          "name": "stdout",
          "text": [
            "brand:rolls royceand color:dark red\n"
          ]
        }
      ]
    },
    {
      "cell_type": "code",
      "source": [],
      "metadata": {
        "id": "FIfhHieW5K8q"
      },
      "execution_count": null,
      "outputs": []
    },
    {
      "cell_type": "code",
      "source": [
        "#reverse string\n",
        "name=input(\"enter your name:\")\n",
        "print(name[::-1])"
      ],
      "metadata": {
        "colab": {
          "base_uri": "https://localhost:8080/"
        },
        "id": "f0w1j4h9cAcA",
        "outputId": "3cb551ed-2bb8-41ed-c295-06402144aec2"
      },
      "execution_count": null,
      "outputs": [
        {
          "output_type": "stream",
          "name": "stdout",
          "text": [
            "enter your name:lohith\n",
            "htihol\n"
          ]
        }
      ]
    },
    {
      "cell_type": "code",
      "source": [
        "name=input(\"enter your name:\")\n",
        "reversed_name=name[::-1]\n",
        "if reversed_name==name:\n",
        "  print(\"it is palindrome \")\n",
        "else:\n",
        "  print(\"it is not a palindrome\")"
      ],
      "metadata": {
        "colab": {
          "base_uri": "https://localhost:8080/"
        },
        "id": "EpTsPzuEkNMp",
        "outputId": "f5ab4386-28d3-4664-8265-84d725002426"
      },
      "execution_count": null,
      "outputs": [
        {
          "output_type": "stream",
          "name": "stdout",
          "text": [
            "enter your name:madam\n",
            "it is palindrome \n"
          ]
        }
      ]
    },
    {
      "cell_type": "code",
      "source": [
        "name=\"qwerty\"\n",
        "vowels_count=0\n",
        "for char in name:\n",
        "  if char in \"aeiou\":\n",
        "    vowels_count+=1\n",
        "print(vowels_count)\n"
      ],
      "metadata": {
        "colab": {
          "base_uri": "https://localhost:8080/"
        },
        "id": "LF0Y4-2qlBWv",
        "outputId": "d8f67efe-62c7-498f-bb48-64f7da77b509"
      },
      "execution_count": null,
      "outputs": [
        {
          "output_type": "stream",
          "name": "stdout",
          "text": [
            "1\n"
          ]
        }
      ]
    },
    {
      "cell_type": "code",
      "source": [
        "#3. Character Frequency: Input a string. Print the count of each character.\n",
        "name=input(\"enter your name:\")\n",
        "frequency={}\n",
        "for char in name:\n",
        "  if char in frequency:\n",
        "    frequency[char]+=1\n",
        "  else:\n",
        "    frequency[char]=1\n",
        "for char,count in frequency.items():\n",
        "   print(f\"{char}:{count}\")"
      ],
      "metadata": {
        "colab": {
          "base_uri": "https://localhost:8080/"
        },
        "id": "ccFIVrVWl_NH",
        "outputId": "cf07fef7-be54-46de-bebf-d76489310b04"
      },
      "execution_count": null,
      "outputs": [
        {
          "output_type": "stream",
          "name": "stdout",
          "text": [
            "enter your name:lohith\n",
            "l:1\n",
            "o:1\n",
            "h:2\n",
            "i:1\n",
            "t:1\n"
          ]
        }
      ]
    },
    {
      "cell_type": "code",
      "source": [
        "#count evn odd numbers\n",
        "list1=list(map(int,input(\"enter numbers\").split()))\n",
        "even_count=0\n",
        "odd_count=0\n",
        "for i in list1:\n",
        "  if i%2==0:\n",
        "    even_count+=1\n",
        "  else:\n",
        "    odd_count+=1\n",
        "print(even_count)\n",
        "print(odd_count)"
      ],
      "metadata": {
        "id": "ZNOQu0RER5Bu",
        "colab": {
          "base_uri": "https://localhost:8080/"
        },
        "outputId": "7921cd35-41f5-481b-d5d9-112dc65f2cc8"
      },
      "execution_count": 2,
      "outputs": [
        {
          "output_type": "stream",
          "name": "stdout",
          "text": [
            "enter numbers1 2 3\n",
            "1\n",
            "2\n"
          ]
        }
      ]
    },
    {
      "cell_type": "code",
      "source": [
        "\n",
        "listt=[1,2,3,4,5,6]\n",
        "target=int(input(\"enter a number \"))\n",
        "print(listt.index(target))\n",
        "\n"
      ],
      "metadata": {
        "colab": {
          "base_uri": "https://localhost:8080/"
        },
        "id": "e8-_vX3cDbSH",
        "outputId": "cf5b5a7f-fa17-4223-d0f4-21f70f29c8d0"
      },
      "execution_count": 12,
      "outputs": [
        {
          "output_type": "stream",
          "name": "stdout",
          "text": [
            "enter a number 2\n",
            "1\n"
          ]
        }
      ]
    },
    {
      "cell_type": "code",
      "source": [
        "list1=[1,2,3,4]\n",
        "found= False\n",
        "for i in list:\n",
        "  if i==list1:\n",
        "  found= True\n",
        "  print(\"element is present\")\n",
        ""
      ],
      "metadata": {
        "id": "sZ5FCi_2ellb"
      },
      "execution_count": null,
      "outputs": []
    },
    {
      "cell_type": "code",
      "source": [
        "list1=list(input())\n",
        "list1.sort()\n",
        "print(list1[1])"
      ],
      "metadata": {
        "colab": {
          "base_uri": "https://localhost:8080/"
        },
        "id": "P8hjWP3ER8j_",
        "outputId": "4a0f07c6-2954-487a-f121-78c4dcb46239"
      },
      "execution_count": null,
      "outputs": [
        {
          "output_type": "stream",
          "name": "stdout",
          "text": [
            "23\n",
            "3\n"
          ]
        }
      ]
    },
    {
      "cell_type": "code",
      "source": [
        "#ARMSTRONG NUMBER\n",
        "num=int(input(\"enter a number:\"))\n",
        "sum=0\n",
        "temp=num\n",
        "n=len(str(num))\n",
        "while temp>0:\n",
        "  digit=temp%10\n",
        "  sum +=digit**n\n",
        "  temp=temp//10\n",
        "if sum==num:\n",
        "  print(f\"{num} is an armstrong\")\n",
        "else:\n",
        "  print(\"it is not armstrongnumber\")"
      ],
      "metadata": {
        "colab": {
          "base_uri": "https://localhost:8080/"
        },
        "id": "Yw3RFHFCNi3N",
        "outputId": "d3b7ff61-9aea-48b4-8c2e-2084ec0aef4b"
      },
      "execution_count": null,
      "outputs": [
        {
          "output_type": "stream",
          "name": "stdout",
          "text": [
            "enter a number:9474\n",
            "9474 is an armstrong\n"
          ]
        }
      ]
    },
    {
      "cell_type": "code",
      "source": [
        "#print second largest number\n",
        "number=int(input(\"enter your number:\"))\n",
        "digits=[]\n",
        "while number>0:\n",
        "  digit=number%10\n",
        "  digits.append(digit)\n",
        "  number=number//10\n",
        "elements=list(set(digits))\n",
        "elements.sort(reverse=True)\n",
        "if len(elements)>=2:\n",
        "  print(elements[1])\n",
        "else:\n",
        "  print(\"there is no \")\n"
      ],
      "metadata": {
        "colab": {
          "base_uri": "https://localhost:8080/"
        },
        "id": "rDuC-z1ZZmxA",
        "outputId": "0290e201-7b29-439f-84e4-51a9ea6c6320"
      },
      "execution_count": null,
      "outputs": [
        {
          "output_type": "stream",
          "name": "stdout",
          "text": [
            "enter your number:23\n",
            "2\n"
          ]
        }
      ]
    },
    {
      "cell_type": "code",
      "source": [
        "t=int(input())\n",
        "for _ in range(t):\n",
        "  number=list(map(int,input(\"enter\").split()))\n",
        "  number.sort()\n",
        "  print(number[1])\n"
      ],
      "metadata": {
        "colab": {
          "base_uri": "https://localhost:8080/"
        },
        "id": "Ab0hFT70S7QN",
        "outputId": "25b94cca-e405-4fbf-af57-7089c437669c"
      },
      "execution_count": null,
      "outputs": [
        {
          "output_type": "stream",
          "name": "stdout",
          "text": [
            "3\n",
            "enter3 2 5\n",
            "3\n",
            "enter9 4 3 \n",
            "4\n",
            "enter9 3 5\n",
            "5\n"
          ]
        }
      ]
    },
    {
      "cell_type": "code",
      "source": [
        "numbers=list(map(int,input(\"enter a number:\").split()))\n",
        "even_count=0\n",
        "odd_count=0\n",
        "for num in numbers:\n",
        "  if num%2==0:\n",
        "    even_count+=1\n",
        "  else:\n",
        "    odd_count+=1\n",
        "print(even_count)\n",
        "print(odd_count)#Count Even and Odd in List: Input a list of numbers. Count how many are even and odd.************************\n"
      ],
      "metadata": {
        "colab": {
          "base_uri": "https://localhost:8080/"
        },
        "id": "s5l30MUwQvpq",
        "outputId": "fb3ab28d-0032-45d9-bdc2-9dca66414d3f"
      },
      "execution_count": null,
      "outputs": [
        {
          "output_type": "stream",
          "name": "stdout",
          "text": [
            "enter a number:1 4 5 7\n",
            "1\n",
            "3\n"
          ]
        }
      ]
    },
    {
      "cell_type": "code",
      "source": [
        "#check if List is Sorted: Input a list. Check if it's sorted in ascending order\n",
        "number=list(input())\n",
        "num=number.sort()\n",
        "if number==num:\n",
        "  print(\"it is in ascending order\")\n",
        "else:\n",
        "  print(\"it is nott\")"
      ],
      "metadata": {
        "colab": {
          "base_uri": "https://localhost:8080/"
        },
        "id": "zioxOOQeYAvJ",
        "outputId": "cae60a53-ec7f-44f3-9844-7886ec64bc56"
      },
      "execution_count": null,
      "outputs": [
        {
          "output_type": "stream",
          "name": "stdout",
          "text": [
            "1 2 3 4\n",
            "it is nott\n"
          ]
        }
      ]
    },
    {
      "cell_type": "code",
      "source": [
        "#. Multiplication Table: Input a number. Print its multiplication table up to 10\n",
        "num=int(input(\"enter a number \"))\n",
        "for i in range(11):\n",
        "  table=num*i\n",
        "  print(f\"{num}*{i}={table}\")"
      ],
      "metadata": {
        "colab": {
          "base_uri": "https://localhost:8080/"
        },
        "id": "bv0L_Vqacsb7",
        "outputId": "d5d733f4-cae9-494d-f0c7-db5c7ae87f8f"
      },
      "execution_count": null,
      "outputs": [
        {
          "output_type": "stream",
          "name": "stdout",
          "text": [
            "enter a number 23\n",
            "23*0=0\n",
            "23*1=23\n",
            "23*2=46\n",
            "23*3=69\n",
            "23*4=92\n",
            "23*5=115\n",
            "23*6=138\n",
            "23*7=161\n",
            "23*8=184\n",
            "23*9=207\n",
            "23*10=230\n"
          ]
        }
      ]
    },
    {
      "cell_type": "code",
      "source": [
        "#. Count Digits: Input a number. Print how many digits it has\n",
        "number=int(input(\"enter a number:\"))\n",
        "digits=[]\n",
        "while number>0:\n",
        "  digit=number%10\n",
        "  digits.append(digit)\n",
        "  number=number//10\n",
        "count_digits=len(digits)\n",
        "print(\"the digits in the number :\",count_digits)\n"
      ],
      "metadata": {
        "colab": {
          "base_uri": "https://localhost:8080/"
        },
        "id": "vfs_tXCedw3a",
        "outputId": "d626eed4-f23e-4141-ada0-7df66758ae68"
      },
      "execution_count": null,
      "outputs": [
        {
          "output_type": "stream",
          "name": "stdout",
          "text": [
            "enter a number:32434434\n",
            "the digits in the number : 8\n"
          ]
        }
      ]
    },
    {
      "cell_type": "code",
      "source": [
        "# Print All Even Numbers from 1 to N: Input N. Print even numbers from 1 to N\n",
        "n=int(input(\"number a number:\"))\n",
        "for i in range(1,n+1):\n",
        "  if i%2==0:\n",
        "    print(i)"
      ],
      "metadata": {
        "colab": {
          "base_uri": "https://localhost:8080/"
        },
        "id": "76QpOnBkfpcF",
        "outputId": "0204f261-5fb6-4f7e-fa75-ab5016ea481f"
      },
      "execution_count": null,
      "outputs": [
        {
          "output_type": "stream",
          "name": "stdout",
          "text": [
            "number a number:10\n",
            "2\n",
            "4\n",
            "6\n",
            "8\n",
            "10\n"
          ]
        }
      ]
    },
    {
      "cell_type": "code",
      "source": [
        "#sum of First N Natural Numbers: Input N. Print 1 + 2 + ... + N\n",
        "num=int(input(\"enter a number :\"))\n",
        "sum=0\n",
        "while num>0:\n",
        "  sum +=num\n",
        "  num -=1\n",
        "print(sum)\n"
      ],
      "metadata": {
        "colab": {
          "base_uri": "https://localhost:8080/"
        },
        "id": "6r_tMSH4ga9x",
        "outputId": "b4d0a113-6b9f-4361-e414-baaac06f8970"
      },
      "execution_count": null,
      "outputs": [
        {
          "output_type": "stream",
          "name": "stdout",
          "text": [
            "enter a number :5\n",
            "15\n"
          ]
        }
      ]
    },
    {
      "cell_type": "code",
      "source": [
        "# 5. Factorial of a Number: Input a number. Output its factorial\n",
        "number=int(input(\"enter a number \"))\n",
        "fact=1\n",
        "while number > 1:\n",
        "  fact *=number\n",
        "  number-=1\n",
        "print(fact)"
      ],
      "metadata": {
        "colab": {
          "base_uri": "https://localhost:8080/"
        },
        "id": "VZSSczPXhu3E",
        "outputId": "37abf445-a622-4af5-f4e8-91791b49454f"
      },
      "execution_count": null,
      "outputs": [
        {
          "output_type": "stream",
          "name": "stdout",
          "text": [
            "enter a number 5\n",
            "120\n"
          ]
        }
      ]
    },
    {
      "cell_type": "code",
      "source": [
        "number=int(input(\"enter a number \"))\n",
        "fact=1\n",
        "for i in range(1,number+1):\n",
        "  fact *=i\n",
        "print(fact)"
      ],
      "metadata": {
        "colab": {
          "base_uri": "https://localhost:8080/"
        },
        "id": "ullxLPEalfWt",
        "outputId": "f9a7d56b-006d-4a2d-9b9c-e32c363465ba"
      },
      "execution_count": null,
      "outputs": [
        {
          "output_type": "stream",
          "name": "stdout",
          "text": [
            "enter a number 5\n",
            "120\n"
          ]
        }
      ]
    },
    {
      "cell_type": "code",
      "source": [
        "# Find Max in List: Input a list of numbers. Output the max value\n",
        "data=list(input())\n",
        "data.sort()\n",
        "q=max(data)\n",
        "maxvalue=data[-1]\n",
        "print(maxvalue)\n",
        "print(q)"
      ],
      "metadata": {
        "colab": {
          "base_uri": "https://localhost:8080/"
        },
        "id": "bzuNqsn6n456",
        "outputId": "db9e0219-4279-493c-95e2-d195b86c84d6"
      },
      "execution_count": null,
      "outputs": [
        {
          "output_type": "stream",
          "name": "stdout",
          "text": [
            "1 2 3 4\n",
            "4\n",
            "4\n"
          ]
        }
      ]
    },
    {
      "cell_type": "code",
      "source": [
        "t=int(input())\n",
        "\n",
        "while t>0:\n",
        "  number=int(input(\"enter your number:\"))\n",
        "  number-=1\n",
        "for i in range(11):\n",
        "   table=number*i\n",
        "  print(f\"{number}*{i}={table}\")\n",
        "t-=1\n"
      ],
      "metadata": {
        "colab": {
          "base_uri": "https://localhost:8080/",
          "height": 106
        },
        "id": "YPo5eu5jkLjp",
        "outputId": "c7428791-783f-4119-e9e2-3cdc54eec5db"
      },
      "execution_count": null,
      "outputs": [
        {
          "output_type": "error",
          "ename": "IndentationError",
          "evalue": "unindent does not match any outer indentation level (<tokenize>, line 8)",
          "traceback": [
            "\u001b[0;36m  File \u001b[0;32m\"<tokenize>\"\u001b[0;36m, line \u001b[0;32m8\u001b[0m\n\u001b[0;31m    print(f\"{number}*{i}={table}\")\u001b[0m\n\u001b[0m    ^\u001b[0m\n\u001b[0;31mIndentationError\u001b[0m\u001b[0;31m:\u001b[0m unindent does not match any outer indentation level\n"
          ]
        }
      ]
    },
    {
      "cell_type": "code",
      "source": [
        "#out reverse\n",
        "num=int(input(\"enter your digit:\"))\n",
        "reverse=0\n",
        "while num>0:\n",
        "  digit=num%10\n",
        "  reverse=reverse*10+digit\n",
        "  num=num//10\n",
        "print(reverse)\n"
      ],
      "metadata": {
        "colab": {
          "base_uri": "https://localhost:8080/"
        },
        "id": "v7VjxLrBzyD_",
        "outputId": "5181089e-2ea4-4cc5-d711-334fb0467816"
      },
      "execution_count": null,
      "outputs": [
        {
          "output_type": "stream",
          "name": "stdout",
          "text": [
            "enter your digit:987\n",
            "789\n"
          ]
        }
      ]
    }
  ]
}